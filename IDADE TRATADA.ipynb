{
 "cells": [
  {
   "cell_type": "code",
   "execution_count": 33,
   "id": "bf6d3526-b503-494e-9d54-b3574bb0c843",
   "metadata": {},
   "outputs": [],
   "source": [
    "import pandas as pd\n",
    "import numpy as np\n",
    "from sklearn.impute import SimpleImputer\n",
    "from sklearn.preprocessing import OneHotEncoder\n",
    "from sklearn.compose import ColumnTransformer\n",
    "from sklearn.pipeline import Pipeline\n",
    "from sklearn.linear_model import LogisticRegression\n",
    "\n",
    
    "dados_treino = pd.read_csv('train.csv')\n",
    "dados_teste = pd.read_csv('test.csv')\n",
    "\n",
    
    "def preencher_idades_aleatorias(dados):\n",
    "    idades = dados['Age'].copy()  # Alterado para 'Age' em inglês\n",
    "    # Encontrar índices onde a idade está ausente\n",
    "    indices_idades_ausentes = idades[idades.isnull()].index\n",
    "  
    "    idades_aleatorias = np.random.randint(5, 13, size=len(indices_idades_ausentes))\n",
    "    idades[indices_idades_ausentes] = idades_aleatorias\n",
    "    return idades\n",
    "\n",
    
    "dados_treino['Age'] = preencher_idades_aleatorias(dados_treino) 
    "dados_teste['Age'] = preencher_idades_aleatorias(dados_teste)  
    "\n",
    "# Preprocessing steps\n",
    "colunas_categoricas = ['Sex', 'Embarked']\n",
    "transformador_categorico = OneHotEncoder(handle_unknown='ignore')\n",
    "\n",
    "colunas_numericas = ['Age', 'Fare']  
    "transformador_numerico = Pipeline(steps=[\n",
    "    ('imputer', SimpleImputer(strategy='median'))\n",
    "])\n",
    "\n",
    "preprocessador = ColumnTransformer(\n",
    "    transformers=[\n",
    "        ('num', transformador_numerico, colunas_numericas),\n",
    "        ('cat', transformador_categorico, colunas_categoricas)\n",
    "    ])\n",
    "\n",
    "X_treino = dados_treino.drop(['Survived', 'PassengerId', 'Name', 'Ticket', 'Cabin', 'SibSp', 'Parch'], axis=1)\n",
    "y_treino = dados_treino['Survived']\n",
    "X_treino_processado = preprocessador.fit_transform(X_treino)\n",
    "\n",
    "X_teste = dados_teste.drop(['PassengerId', 'Name', 'Ticket', 'Cabin', 'SibSp', 'Parch'], axis=1)\n",
    "X_teste_processado = preprocessador.transform(X_teste)\n",
    "\n",
   
    "modelo = LogisticRegression(max_iter=500)\n",
    "modelo.fit(X_treino_processado, y_treino)\n",
    "\n",
    
    "predicoes = modelo.predict(X_teste_processado)\n",
    "\n",
    
    "df_predicoes = pd.DataFrame({\n",
    "    'PassengerId': dados_teste['PassengerId'],\n",
    "    'Survived': predicoes\n",
    "})\n",
    "df_predicoes.to_csv('Predicoes_Titanic.csv', index=False)\n",
    "\n"
   ]
  },
  {
   "cell_type": "code",
   "execution_count": 40,
   "id": "9c2910d5-7da7-42fa-a264-cf970fb4572a",
   "metadata": {},
   "outputs": [
    {
     "name": "stdout",
     "output_type": "stream",
     "text": [
      "Dados do Passageiro na posição 16:\n",
      "PassengerId                           160\n",
      "Survived                                0\n",
      "Pclass                                  3\n",
      "Name           Sage, Master. Thomas Henry\n",
      "Sex                                  male\n",
      "Age                                   9.0\n",
      "SibSp                                   8\n",
      "Parch                                   2\n",
      "Ticket                           CA. 2343\n",
      "Fare                                69.55\n",
      "Cabin                                 NaN\n",
      "Embarked                                S\n",
      "Name: 159, dtype: object\n"
     ]
    }
   ],
   "source": [
    "# Visualizar os dados do passageiro na posição 17\n",
    "dados_passageiro_17 = train_df.iloc[159]  # Lembre-se que os índices começam em 0\n",
    "print(\"Dados do Passageiro na posição 16:\")\n",
    "print(dados_passageiro_17)\n"
   ]
  },
  {
   "cell_type": "code",
   "execution_count": 39,
   "id": "9f4c265a-c751-4aef-b905-43b48ad4e722",
   "metadata": {},
   "outputs": [
    {
     "name": "stdout",
     "output_type": "stream",
     "text": [
      "Dados nulos no DataFrame:\n",
      "PassengerId      0\n",
      "Survived         0\n",
      "Pclass           0\n",
      "Name             0\n",
      "Sex              0\n",
      "Age              0\n",
      "SibSp            0\n",
      "Parch            0\n",
      "Ticket           0\n",
      "Fare             0\n",
      "Cabin          687\n",
      "Embarked         2\n",
      "dtype: int64\n"
     ]
    }
   ],
   "source": [
    "# Visualizar todos os dados nulos no DataFrame\n",
    "dados_nulos = train_df.isnull().sum()\n",
    "print(\"Dados nulos no DataFrame:\")\n",
    "print(dados_nulos)\n"
   ]
  },
  {
   "cell_type": "code",
   "execution_count": null,
   "id": "4a21a787-c8c0-4ab9-9813-c578c228742b",
   "metadata": {},
   "outputs": [],
   "source": []
  },
  {
   "cell_type": "code",
   "execution_count": null,
   "id": "9e6e534f-cb81-4cae-92d4-ff4da554a231",
   "metadata": {},
   "outputs": [],
   "source": []
  }
 ],
 "metadata": {
  "kernelspec": {
   "display_name": "Python 3 (ipykernel)",
   "language": "python",
   "name": "python3"
  },
  "language_info": {
   "codemirror_mode": {
    "name": "ipython",
    "version": 3
   },
   "file_extension": ".py",
   "mimetype": "text/x-python",
   "name": "python",
   "nbconvert_exporter": "python",
   "pygments_lexer": "ipython3",
   "version": "3.11.7"
  }
 },
 "nbformat": 4,
 "nbformat_minor": 5
}
